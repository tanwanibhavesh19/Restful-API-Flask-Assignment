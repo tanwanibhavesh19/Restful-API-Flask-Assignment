{
  "nbformat": 4,
  "nbformat_minor": 0,
  "metadata": {
    "colab": {
      "provenance": []
    },
    "kernelspec": {
      "name": "python3",
      "display_name": "Python 3"
    },
    "language_info": {
      "name": "python"
    }
  },
  "cells": [
    {
      "cell_type": "markdown",
      "source": [
        "#**Restful API & Flask Asiignment**"
      ],
      "metadata": {
        "id": "Py169UhY8yfh"
      }
    },
    {
      "cell_type": "markdown",
      "source": [
        "#**Theoratical Questions**\n",
        "\n",
        "1. What is a RESTful API ?\n",
        "  - A RESTful API is a type of API that uses the REST (Representational State Transfer) architectural style for communication between clients and servers.\n",
        "  - It's designed to be simple, flexible, and stateless, using standard HTTP methods like GET, POST, PUT, and DELETE to interact with data.\n",
        "\n",
        "2. Explain the concept of API specification.\n",
        "  - An API specification is a formal document that outlines the elements of an API, acting as a blueprint for its design and development.\n",
        "  - It details the API's behavior, including its operations, endpoints, input/output for each call, and the data models it uses.\n",
        "  - Essentially, it defines how an API should behave and interact with other systems.\n",
        "\n",
        "3. What is Flask, and why is it popular for building APIs ?\n",
        "  - Flask is a lightweight Python microframework ideal for building web applications, including REST APIs.\n",
        "  - It's known for its simplicity, flexibility, and minimal dependencies, making it easy to create and customize web services.\n",
        "  - This flexibility and ease of use contribute to its popularity for API development.\n",
        "\n",
        "4. What is routing in Flask ?\n",
        "  - In Flask, routing is the mechanism that maps specific URL paths to corresponding functions.\n",
        "  - When a client sends a request to a particular URL, Flask's routing system determines which function should handle that request.\n",
        "  - This is achieved through the use of the @app.route() decorator, which associates a URL path with a Python function.\n",
        "\n",
        "5.  How do you create a simple Flask application ?\n",
        "  - Here's how to create a simple Flask application: install flask.\n",
        "  - Code:\n",
        "\n",
        "    pip install Flask\n",
        "\n",
        "  - Create a Python file: (e.g., app.py):\n",
        "\n",
        "    from flask import Flask\n",
        "\n",
        "    app = Flask(__name__)\n",
        "\n",
        "    @app.route('/')\n",
        "    def hello_world():\n",
        "        return 'Hello, World!'\n",
        "\n",
        "    if __name__ == '__main__':\n",
        "        app.run(debug=True)\n",
        "  - run the application.\n",
        "\n",
        "6. What are HTTP methods used in RESTful APIs ?\n",
        "  - n RESTful APIs, the most commonly used HTTP methods are GET, POST, PUT, DELETE, and PATCH.\n",
        "  - These methods map to CRUD operations (Create, Read, Update, and Delete) on resources.\n",
        "\n",
        "7. What is the purpose of the @app.route() decorator in Flask ?\n",
        "  - The @app.route() decorator in Flask is used to bind a URL path to a specific function.\n",
        "  - It essentially tells Flask which function should be executed when a user visits a particular URL in the web application. This mechanism is known as routing.\n",
        "  - When a request comes in, Flask matches the requested URL against the routes defined by @app.route().\n",
        "  - If a match is found, the associated function is called, and its return value is sent back to the client as the response.\n",
        "\n",
        "8. What is the difference between GET and POST HTTP methods ?\n",
        "  - The main difference between GET and POST HTTP methods lies in their intended use: GET is for retrieving data, while POST is for sending data to the server, often for creating or updating resources.\n",
        "  - GET requests send data in the URL, making it visible and cacheable, while POST requests send data in the request body, keeping it hidden and not typically cacheable.\n",
        "\n",
        "9. How do you handle errors in Flask APIs ?\n",
        "  - Error handling in Flask APIs can be implemented using a few approaches:\n",
        "Using try...except blocks:\n",
        "   \n",
        "   \n",
        "    Enclose code that might raise exceptions within a try block, and handle specific exceptions in except blocks.\n",
        "  - Using the @app.errorhandler decorator:\n",
        "\n",
        "\n",
        "    This decorator allows defining functions to handle specific HTTP error codes or exception types.\n",
        "\n",
        "10. How do you connect Flask to a SQL database ?\n",
        "  - Setting Up SQLAlchemy\n",
        "  - To create a database we need to import SQLAlchemy in app.py, set up SQLite configuration, and create a database instance as shown below.\n",
        "  - We set up Flask, connect it to a SQLite database (site. db), and use db. create_all() to create the database when the app runs.\n",
        "\n",
        "11. What is the role of Flask-SQLAlchemy ?\n",
        "  - Flask-SQLAlchemy is a Flask extension that makes using SQLAlchemy with Flask easier, providing you tools and methods to interact with your database in your Flask applications through SQLAlchemy.\n",
        "  - In this tutorial, you'll build a small student management system that demonstrates how to use the Flask-SQLAlchemy extension.\n",
        "\n",
        "12. What are Flask blueprints, and how are they useful ?\n",
        "  - Each Flask Blueprint is an object that works very similarly to a Flask application.\n",
        "  - They both can have resources, such as static files, templates, and views that are associated with routes.\n",
        "  - However, a Flask Blueprint is not actually an application. It needs to be registered in an application before you can run it.\n",
        "\n",
        "13. What is the purpose of Flask's request object ?\n",
        "  - The Flask request object serves as a central point for accessing incoming data from a client's request.\n",
        "  - When a client, such as a web browser, sends a request to a Flask application, the request object encapsulates all the relevant information about that request.\n",
        "  - This includes data such as form parameters, URL parameters, headers, cookies, and the request body.\n",
        "\n",
        "\n"
      ],
      "metadata": {
        "id": "EZimrAGt8_Kj"
      }
    },
    {
      "cell_type": "code",
      "source": [
        "# 14. How do you create a RESTful API endpoint using Flask ?\n",
        "  #1. Basic Project Structure\n",
        "#Create a file named app.py.\n",
        "  # 2. Code for a Basic RESTful API Endpoint\n",
        "\n",
        "from flask import Flask, jsonify, request\n",
        "\n",
        "app = Flask(__name__)\n",
        "\n",
        "# Sample in-memory data store\n",
        "books = [\n",
        "    {\"id\": 1, \"title\": \"1984\", \"author\": \"George Orwell\"},\n",
        "    {\"id\": 2, \"title\": \"Brave New World\", \"author\": \"Aldous Huxley\"}\n",
        "]\n",
        "\n",
        "# GET all books\n",
        "@app.route('/api/books', methods=['GET'])\n",
        "def get_books():\n",
        "    return jsonify(books)\n",
        "\n",
        "# GET a single book by ID\n",
        "@app.route('/api/books/<int:book_id>', methods=['GET'])\n",
        "def get_book(book_id):\n",
        "    book = next((b for b in books if b['id'] == book_id), None)\n",
        "    return jsonify(book) if book else ('Book not found', 404)\n",
        "\n",
        "# POST a new book\n",
        "@app.route('/api/books', methods=['POST'])\n",
        "def add_book():\n",
        "    new_book = request.get_json()\n",
        "    new_book['id'] = books[-1]['id'] + 1 if books else 1\n",
        "    books.append(new_book)\n",
        "    return jsonify(new_book), 201\n",
        "\n",
        "# PUT to update a book\n",
        "@app.route('/api/books/<int:book_id>', methods=['PUT'])\n",
        "def update_book(book_id):\n",
        "    book = next((b for b in books if b['id'] == book_id), None)\n",
        "    if not book:\n",
        "        return ('Book not found', 404)\n",
        "\n",
        "    data = request.get_json()\n",
        "    book.update(data)\n",
        "    return jsonify(book)\n",
        "\n",
        "# DELETE a book\n",
        "@app.route('/api/books/<int:book_id>', methods=['DELETE'])\n",
        "def delete_book(book_id):\n",
        "    global books\n",
        "    books = [b for b in books if b['id'] != book_id]\n",
        "    return ('', 204)\n",
        "\n",
        "# Run the app\n",
        "if __name__ == '__main__':\n",
        "    app.run(debug=True)"
      ],
      "metadata": {
        "id": "WKujK_DQC5cF"
      },
      "execution_count": null,
      "outputs": []
    },
    {
      "cell_type": "markdown",
      "source": [
        "15. What is the purpose of Flask's jsonify() function ?\n",
        "  - Flask's jsonify() function simplifies creating JSON responses in web applications.\n",
        "  - It takes Python objects (usually dictionaries) and converts them into a JSON-formatted string, automatically setting the Content-Type header to application/json and returning a Flask Response object.\n",
        "  - This allows developers to focus on the data they want to send back to the client, without worrying about manual serialization or header management.\n",
        "\n",
        "16. Explain Flask’s url_for() function.\n",
        "  - In Flask, the url_for() function generates a URL to a specific function based on its name and arguments.\n",
        "  - It dynamically constructs URLs, preventing the need to hardcode them and simplifying maintenance, especially when routes change.\n",
        "  - The function's first argument is the name of the view function (also known as the endpoint), and subsequent keyword arguments correspond to variable parts of the URL rule. For example, if a route is defined as /user/<username>, url_for('user_profile', username='john') would generate the URL /user/john.\n",
        "\n",
        "17. How does Flask handle static files (CSS, JavaScript, etc.) ?\n",
        "  - Flask, by default, serves static files (like CSS, JavaScript, and images) from a folder named static located in the same directory as the main application file.\n",
        "  - To include these files in templates, the url_for() function is used.\n",
        "\n",
        "  18. What is an API specification, and how does it help in building a Flask API ?\n",
        "    - An API specification is a formal, structured description of how a client can interact with an API.\n",
        "    - It defines what endpoints are available, what parameters they accept, what data they return, and how they behave.\n",
        "    - It serves as a contract between the backend (Flask API) and the clients (e.g. frontend apps, third-party services).\n",
        "\n",
        "19. What are HTTP status codes, and why are they important in a Flask API ?\n",
        "  - HTTP status codes are three-digit codes that indicate the outcome of an API request.\n",
        "  - They are included in the API's response to the API client, and they include important information that helps the client know how to proceed.\n",
        "\n",
        "20. How do you handle POST requests in Flask ?\n",
        "  - Handling POST requests in Flask involves specifying the POST method in the route decorator and accessing the request data using the request object.\n",
        "\n",
        "21. How would you secure a Flask API ?\n",
        "  - To protect your APIs built with Flask, it is essential to address several key security aspects:\n",
        "  - Use HTTPS: Employing HTTPS encrypts data in transit, preventing unauthorized access and mitigating the risk of man-in-the-middle attacks.\n",
        "\n",
        "22. What is the significance of the Flask-RESTful extension ?\n",
        "  - The Flask RESTful extension significantly simplifies REST API development within Flask applications.\n",
        "  - It provides a more structured and efficient way to define API endpoints, handle HTTP methods, and manage resources compared to using Flask directly.\n",
        "  - Flask RESTful is particularly helpful for building RESTful APIs, offering features like automatic request parsing, response formatting, and resource-oriented design.\n",
        "\n",
        "23. What is the role of Flask's session object ?\n",
        "  - In Flask, the session object allows you to store user-specific data across multiple HTTP requests.\n",
        "  - It acts as a way to persist data between different interactions with a web application, making it possible to remember information like login status, preferences, or other user-related data.\n",
        "  - Essentially, it enables Flask to maintain a state of the user's interaction with the application.\n",
        "  "
      ],
      "metadata": {
        "id": "Je9Ob3AmDHSq"
      }
    },
    {
      "cell_type": "markdown",
      "source": [
        "#**Practical Questions**"
      ],
      "metadata": {
        "id": "HtaDkI0OFgPe"
      }
    },
    {
      "cell_type": "code",
      "source": [
        "#1.  How do you create a basic Flask application ?\n",
        "\n",
        "from flask import Flask\n",
        "\n",
        "# Create a Flask application instance\n",
        "app = Flask(__name__)\n",
        "\n",
        "# Define a route and its handler\n",
        "@app.route('/')\n",
        "def home():\n",
        "    return 'Hello, Flask!'\n",
        "\n",
        "# Run the app\n",
        "if __name__ == '__main__':\n",
        "    app.run(debug=True)\n"
      ],
      "metadata": {
        "id": "hapakdBsFk98"
      },
      "execution_count": null,
      "outputs": []
    },
    {
      "cell_type": "code",
      "source": [
        "#2.  How do you serve static files like images or CSS in Flask ?\n",
        "\n",
        "from flask import Flask, url_for\n",
        "\n",
        "app = Flask(__name__)\n",
        "\n",
        "@app.route('/')\n",
        "def home():\n",
        "    logo_url = url_for('static', filename='logo.png')\n",
        "    return f'<img src=\"{logo_url}\" alt=\"Logo\">'\n"
      ],
      "metadata": {
        "id": "xrHCnC0iFykn"
      },
      "execution_count": null,
      "outputs": []
    },
    {
      "cell_type": "code",
      "source": [
        "#3. How do you define different routes with different HTTP methods in Flask\n",
        "\n",
        "from flask import Flask, request, jsonify\n",
        "\n",
        "app = Flask(__name__)\n",
        "\n",
        "# GET route\n",
        "@app.route('/hello', methods=['GET'])\n",
        "def say_hello():\n",
        "    return 'Hello, World!'\n",
        "\n",
        "# POST route\n",
        "@app.route('/submit', methods=['POST'])\n",
        "def submit():\n",
        "    data = request.get_json()\n",
        "    return jsonify({\"you_sent\": data}), 201\n",
        "\n",
        "# PUT route\n",
        "@app.route('/update/<int:item_id>', methods=['PUT'])\n",
        "def update(item_id):\n",
        "    data = request.get_json()\n",
        "    return jsonify({\"id\": item_id, \"updated_data\": data})\n",
        "\n",
        "# DELETE route\n",
        "@app.route('/delete/<int:item_id>', methods=['DELETE'])\n",
        "def delete(item_id):\n",
        "    return jsonify({\"message\": f\"Item {item_id} deleted\"}), 204\n"
      ],
      "metadata": {
        "id": "skbxoYpfGB-X"
      },
      "execution_count": null,
      "outputs": []
    },
    {
      "cell_type": "code",
      "source": [
        "#4.How do you render HTML templates in Flask?\n",
        "\n",
        "from flask import Flask, render_template\n",
        "\n",
        "app = Flask(__name__)\n",
        "\n",
        "@app.route('/')\n",
        "def home():\n",
        "    return render_template('index.html', name='Flask')\n"
      ],
      "metadata": {
        "id": "zB5pqVuuGNrg"
      },
      "execution_count": null,
      "outputs": []
    },
    {
      "cell_type": "code",
      "source": [
        "#5.How can you generate URLs for routes in Flask using url_for?\n",
        "\n",
        "from flask import Flask, url_for\n",
        "\n",
        "app = Flask(__name__)\n",
        "\n",
        "@app.route('/about')\n",
        "def about():\n",
        "    return 'About page'\n",
        "\n",
        "@app.route('/')\n",
        "def home():\n",
        "    # Generates: /about\n",
        "    about_url = url_for('about')\n",
        "    return f'Go to the <a href=\"{about_url}\">About Page</a>'\n"
      ],
      "metadata": {
        "id": "c0rwkBcmGq4u"
      },
      "execution_count": null,
      "outputs": []
    },
    {
      "cell_type": "code",
      "source": [
        "#6.  How do you handle forms in Flask?\n",
        "\n",
        "from flask import Flask, render_template, redirect, url_for\n",
        "from flask_wtf import FlaskForm\n",
        "from wtforms import StringField\n",
        "from wtforms.validators import DataRequired\n",
        "\n",
        "app = Flask(__name__)\n",
        "app.config['SECRET_KEY'] = 'your_secret_key'\n",
        "\n",
        "class NameForm(FlaskForm):\n",
        "    name = StringField('Name', validators=[DataRequired()])\n",
        "\n",
        "@app.route('/', methods=['GET', 'POST'])\n",
        "def home():\n",
        "    form = NameForm()\n",
        "    if form.validate_on_submit():\n",
        "        name = form.name.data\n",
        "        return redirect(url_for('submit', name=name))\n",
        "\n",
        "    return render_template('form.html', form=form)\n",
        "\n",
        "@app.route('/submit', methods=['GET'])\n",
        "def submit():\n",
        "    name = request.args.get('name')\n",
        "    return f\"Thank you for submitting, {name}!\"\n",
        "\n",
        "if __name__ == '__main__':\n",
        "    app.run(debug=True)\n"
      ],
      "metadata": {
        "id": "-F4WdDP_G5FU"
      },
      "execution_count": null,
      "outputs": []
    },
    {
      "cell_type": "code",
      "source": [
        "#7. How can you validate form data in Flask ?\n",
        "\n",
        "from flask import Flask, request, render_template, redirect, url_for\n",
        "\n",
        "app = Flask(__name__)\n",
        "\n",
        "@app.route('/', methods=['GET', 'POST'])\n",
        "def home():\n",
        "    if request.method == 'POST':\n",
        "        name = request.form.get('name')\n",
        "\n",
        "        # Check if the name is empty\n",
        "        if not name:\n",
        "            return \"Name is required!\", 400\n",
        "\n",
        "        # Check if the name is too short\n",
        "        if len(name) < 3:\n",
        "            return \"Name must be at least 3 characters long.\", 400\n",
        "\n",
        "        # If validation passes, proceed\n",
        "        return redirect(url_for('submit', name=name))\n",
        "\n",
        "    return render_template('form.html')\n",
        "\n",
        "@app.route('/submit', methods=['GET'])\n",
        "def submit():\n",
        "    name = request.args.get('name')\n",
        "    return f\"Thank you for submitting, {name}!\"\n",
        "\n",
        "if __name__ == '__main__':\n",
        "    app.run(debug=True)\n"
      ],
      "metadata": {
        "id": "sayWDjq9HQFa"
      },
      "execution_count": null,
      "outputs": []
    },
    {
      "cell_type": "code",
      "source": [
        "#8. How do you manage sessions in Flask ?\n",
        "\n",
        "from flask import Flask, session, redirect, url_for, request\n",
        "\n",
        "app = Flask(__name__)\n",
        "app.config['SECRET_KEY'] = 'your_secret_key'  # Important for session security\n",
        "\n",
        "@app.route('/')\n",
        "def index():\n",
        "    return 'Welcome to the Flask Session Demo!'\n",
        "\n",
        "if __name__ == '__main__':\n",
        "    app.run(debug=True)\n"
      ],
      "metadata": {
        "id": "wtWryNUYHdX5"
      },
      "execution_count": null,
      "outputs": []
    },
    {
      "cell_type": "code",
      "source": [
        "#9.How do you redirect to a different route in Flask?\n",
        "\n",
        "from flask import Flask, redirect, url_for\n",
        "\n",
        "app = Flask(__name__)\n",
        "\n",
        "@app.route('/')\n",
        "def home():\n",
        "    return 'Welcome to the Home Page!'\n",
        "\n",
        "@app.route('/redirect_me')\n",
        "def redirect_me():\n",
        "    # Redirecting to the home route\n",
        "    return redirect(url_for('home'))\n",
        "\n",
        "if __name__ == '__main__':\n",
        "    app.run(debug=True)\n"
      ],
      "metadata": {
        "id": "aJibXj7jHwU8"
      },
      "execution_count": null,
      "outputs": []
    },
    {
      "cell_type": "code",
      "source": [
        "#10. How do you handle errors in Flask (e.g., 404)\n",
        "\n",
        "from flask import Flask, render_template\n",
        "\n",
        "app = Flask(__name__)\n",
        "\n",
        "@app.route('/')\n",
        "def home():\n",
        "    return 'Welcome to the Home Page!'\n",
        "\n",
        "@app.route('/about')\n",
        "def about():\n",
        "    return 'This is the about page!'\n",
        "\n",
        "# Custom 404 error page\n",
        "@app.errorhandler(404)\n",
        "def page_not_found(error):\n",
        "    return render_template('404.html'), 404\n",
        "\n",
        "if __name__ == '__main__':\n",
        "    app.run(debug=True)\n"
      ],
      "metadata": {
        "id": "VoEM9wDoH5_E"
      },
      "execution_count": null,
      "outputs": []
    },
    {
      "cell_type": "code",
      "source": [
        "#11. How do you structure a Flask app using Blueprints?\n",
        "\n",
        "\n",
        "# auth/__init__.py\n",
        "from flask import Blueprint\n",
        "\n",
        "auth = Blueprint('auth', __name__, template_folder='templates')\n",
        "\n",
        "from . import routes  # Import routes\n"
      ],
      "metadata": {
        "id": "ZmD2e1rcIEu6"
      },
      "execution_count": null,
      "outputs": []
    },
    {
      "cell_type": "code",
      "source": [
        "#12. How do you define a custom Jinja filter in Flask?\n",
        "\n",
        "from flask import Flask\n",
        "from jinja2 import Markup\n",
        "\n",
        "app = Flask(__name__)\n",
        "\n",
        "# Step 1: Define a custom filter function\n",
        "def reverse_string(value):\n",
        "    \"\"\"Reverses the input string\"\"\"\n",
        "    if isinstance(value, str):\n",
        "        return value[::-1]  # Reverse the string\n",
        "    return value\n",
        "\n",
        "# Step 2: Register the custom filter with Flask\n",
        "app.jinja_env.filters['reverse'] = reverse_string\n",
        "\n",
        "@app.route('/')\n",
        "def index():\n",
        "    text = \"Hello, Flask!\"\n",
        "    return render_template('index.html', text=text)\n",
        "\n",
        "if __name__ == '__main__':\n",
        "    app.run(debug=True)\n"
      ],
      "metadata": {
        "id": "ZEiEza95IUIj"
      },
      "execution_count": null,
      "outputs": []
    },
    {
      "cell_type": "code",
      "source": [
        "#13.How can you redirect with query parameters in Flask ?\n",
        "\n",
        "from flask import Flask, redirect, url_for\n",
        "\n",
        "app = Flask(__name__)\n",
        "\n",
        "@app.route('/')\n",
        "def home():\n",
        "    return 'Home Page'\n",
        "\n",
        "@app.route('/redirect_with_query')\n",
        "def redirect_with_query():\n",
        "    # Redirect to /home with a query parameter\n",
        "    return redirect(url_for('home') + '?name=Alice&age=30')\n",
        "\n",
        "if __name__ == '__main__':\n",
        "    app.run(debug=True)\n"
      ],
      "metadata": {
        "id": "DLxRGq99Idz9"
      },
      "execution_count": null,
      "outputs": []
    },
    {
      "cell_type": "code",
      "source": [
        "#14. How do you return JSON responses in Flask ?\n",
        "\n",
        "from flask import Flask, jsonify\n",
        "\n",
        "app = Flask(__name__)\n",
        "\n",
        "@app.route('/api')\n",
        "def api():\n",
        "    data = {\n",
        "        'name': 'Alice',\n",
        "        'age': 30,\n",
        "        'city': 'New York'\n",
        "    }\n",
        "    return jsonify(data)  # Return data as JSON response\n",
        "\n",
        "if __name__ == '__main__':\n",
        "    app.run(debug=True)\n"
      ],
      "metadata": {
        "id": "cCJCaGVQIvrW"
      },
      "execution_count": null,
      "outputs": []
    },
    {
      "cell_type": "code",
      "source": [
        "#15. How do you capture URL parameters in Flask ?\n",
        "\n",
        "from flask import Flask\n",
        "\n",
        "app = Flask(__name__)\n",
        "\n",
        "@app.route('/user/<username>')\n",
        "def show_user(username):\n",
        "    return f'Hello, {username}!'\n"
      ],
      "metadata": {
        "id": "VtUfzXgpI51b"
      },
      "execution_count": null,
      "outputs": []
    }
  ]
}